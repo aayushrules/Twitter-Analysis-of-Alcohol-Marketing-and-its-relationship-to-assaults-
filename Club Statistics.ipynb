{
 "cells": [
  {
   "cell_type": "code",
   "execution_count": 1,
   "id": "ef590958",
   "metadata": {},
   "outputs": [],
   "source": [
    "import re"
   ]
  },
  {
   "cell_type": "code",
   "execution_count": 2,
   "id": "a00cf984",
   "metadata": {},
   "outputs": [],
   "source": [
    "# pip install transformers==2.1.0"
   ]
  },
  {
   "cell_type": "code",
   "execution_count": 3,
   "id": "c8514110",
   "metadata": {},
   "outputs": [],
   "source": [
    "import pandas as pd\n",
    "data= pd.read_csv(\"Club name.csv\", index_col=False)\n",
    "data.drop('Unnamed: 0', axis=1, inplace=True)\n",
    "\n",
    "# data"
   ]
  },
  {
   "cell_type": "code",
   "execution_count": 4,
   "id": "089da387",
   "metadata": {},
   "outputs": [],
   "source": [
    "new_Df= pd.read_csv(\"labelled_data.csv\", index_col=False)\n",
    "new_Df.drop('Unnamed: 0', axis=1, inplace=True)\n",
    "new_Df.drop('retweet', axis=1, inplace=True)\n",
    "\n",
    "# new_Df"
   ]
  },
  {
   "cell_type": "code",
   "execution_count": 5,
   "id": "9400fea5",
   "metadata": {},
   "outputs": [],
   "source": [
    "\n",
    "Promo=[]\n",
    "\n",
    "\n",
    "# Labelling promotional tweets from the data using algorithm \n",
    "\n",
    "for tweet in new_Df['tweets']:\n",
    "    \n",
    "    if 'RT @' in tweet or re.findall('\\A@', tweet):\n",
    "        Promo.append('None')\n",
    "        \n",
    "    elif 'RT @' not in tweet:\n",
    "            #\n",
    "            if  re.findall('drink', tweet, flags=re.IGNORECASE) or re.findall('£', tweet):\n",
    "                Promo.append('Yes')\n",
    "            else:\n",
    "                Promo.append('No')\n",
    "\n",
    "\n",
    "# adding labelled data to data frame \n",
    "new_Df['Promo']= Promo\n",
    "\n",
    "new_Df.drop(new_Df[(new_Df['Promo']== 'None')].index, inplace=True)\n",
    "\n",
    "#printing new data frame: \n",
    "new_Df\n",
    "\n",
    "new_Df.to_csv('Clubname.csv')\n"
   ]
  },
  {
   "cell_type": "code",
   "execution_count": 6,
   "id": "f565bfd2",
   "metadata": {},
   "outputs": [
    {
     "name": "stdout",
     "output_type": "stream",
     "text": [
      "Precision: 0.667\n",
      "Recall: 1.000\n",
      "F-Measure: 0.800\n"
     ]
    }
   ],
   "source": [
    "# Since our data is not balanced we use \n",
    "\n",
    "\n",
    "from sklearn.metrics import precision_score\n",
    "from sklearn.metrics import recall_score\n",
    "from sklearn.metrics import f1_score\n",
    "\n",
    "\n",
    "\n",
    "\n",
    "# Counting number of true positives, true negatives, falsepositives, false negatives :\n",
    "\n",
    "act_pos=[]\n",
    "act_neg=[]\n",
    "pred_pos=[]\n",
    "pred_neg=[]\n",
    "\n",
    "# define actual\n",
    "for i in new_Df['Promotional ']:\n",
    "    if i.strip() == 'Yes':\n",
    "        act_pos.append(1)\n",
    "    else:\n",
    "        act_neg.append(0)\n",
    "        \n",
    "# define predictions\n",
    "for i in new_Df['Promo']:\n",
    "    if i =='Yes':\n",
    "        pred_pos.append(1)\n",
    "    else:\n",
    "        pred_neg.append(0)\n",
    "\n",
    "# calculate prediction\n",
    " \n",
    "y_true = act_pos + act_neg\n",
    "y_pred = pred_pos + pred_neg\n",
    "\n",
    "\n",
    "# calculate score\n",
    "\n",
    "precision = precision_score(y_true, y_pred, average='binary')\n",
    "print('Precision: %.3f' % precision)\n",
    "\n",
    "recall = recall_score(y_true, y_pred, average='binary')\n",
    "print('Recall: %.3f' % recall)\n",
    "\n",
    "score = f1_score(y_true, y_pred, average='binary')\n",
    "print('F-Measure: %.3f' % score)\n"
   ]
  },
  {
   "cell_type": "code",
   "execution_count": 32,
   "id": "2d5ec662",
   "metadata": {},
   "outputs": [],
   "source": [
    "data['time']= pd.to_datetime(data.time)\n",
    "date=[]\n",
    "for i in data['time']:\n",
    "    date.append(i.date())\n",
    "data['date']= date\n",
    "data['date'] = pd.to_datetime(data['date'])  \n",
    "\n",
    "''' Selecting data between given date ranges'''\n",
    "\n",
    "\n",
    "#greater than the start date and smaller than the end date\n",
    "# mask = (data['date'] > start_date) & (data['date'] <= end_date)\n",
    "\n",
    "mask = (data['date'] >= '2019-1-1') & (data['date'] < '2020-1-1')\n",
    "data= (data.loc[mask])\n",
    "\n",
    "# data"
   ]
  },
  {
   "cell_type": "code",
   "execution_count": 8,
   "id": "1200225c",
   "metadata": {},
   "outputs": [
    {
     "data": {
      "text/html": [
       "<div>\n",
       "<style scoped>\n",
       "    .dataframe tbody tr th:only-of-type {\n",
       "        vertical-align: middle;\n",
       "    }\n",
       "\n",
       "    .dataframe tbody tr th {\n",
       "        vertical-align: top;\n",
       "    }\n",
       "\n",
       "    .dataframe thead th {\n",
       "        text-align: right;\n",
       "    }\n",
       "</style>\n",
       "<table border=\"1\" class=\"dataframe\">\n",
       "  <thead>\n",
       "    <tr style=\"text-align: right;\">\n",
       "      <th></th>\n",
       "      <th>likes</th>\n",
       "      <th>retweet</th>\n",
       "    </tr>\n",
       "  </thead>\n",
       "  <tbody>\n",
       "    <tr>\n",
       "      <th>count</th>\n",
       "      <td>1963.000000</td>\n",
       "      <td>1963.000000</td>\n",
       "    </tr>\n",
       "    <tr>\n",
       "      <th>mean</th>\n",
       "      <td>0.108507</td>\n",
       "      <td>0.209373</td>\n",
       "    </tr>\n",
       "    <tr>\n",
       "      <th>std</th>\n",
       "      <td>0.593839</td>\n",
       "      <td>0.689571</td>\n",
       "    </tr>\n",
       "    <tr>\n",
       "      <th>min</th>\n",
       "      <td>0.000000</td>\n",
       "      <td>0.000000</td>\n",
       "    </tr>\n",
       "    <tr>\n",
       "      <th>25%</th>\n",
       "      <td>0.000000</td>\n",
       "      <td>0.000000</td>\n",
       "    </tr>\n",
       "    <tr>\n",
       "      <th>50%</th>\n",
       "      <td>0.000000</td>\n",
       "      <td>0.000000</td>\n",
       "    </tr>\n",
       "    <tr>\n",
       "      <th>75%</th>\n",
       "      <td>0.000000</td>\n",
       "      <td>0.000000</td>\n",
       "    </tr>\n",
       "    <tr>\n",
       "      <th>max</th>\n",
       "      <td>22.000000</td>\n",
       "      <td>15.000000</td>\n",
       "    </tr>\n",
       "  </tbody>\n",
       "</table>\n",
       "</div>"
      ],
      "text/plain": [
       "             likes      retweet\n",
       "count  1963.000000  1963.000000\n",
       "mean      0.108507     0.209373\n",
       "std       0.593839     0.689571\n",
       "min       0.000000     0.000000\n",
       "25%       0.000000     0.000000\n",
       "50%       0.000000     0.000000\n",
       "75%       0.000000     0.000000\n",
       "max      22.000000    15.000000"
      ]
     },
     "execution_count": 8,
     "metadata": {},
     "output_type": "execute_result"
    }
   ],
   "source": [
    "\n",
    "\n",
    "data['time']= pd.to_datetime(data.time)\n",
    "date=[]\n",
    "for i in data['time']:\n",
    "    date.append(i.date())\n",
    "data['date']= date\n",
    "data['date'] = pd.to_datetime(data['date'])  \n",
    "\n",
    "''' Selecting data between given date ranges'''\n",
    "#greater than the start date and smaller than the end date\n",
    "# mask = (data['date'] > start_date) & (data['date'] <= end_date)\n",
    "\n",
    "mask = (data['date'] >= '2019-1-1') & (data['date'] < '2020-1-1')\n",
    "data= (data.loc[mask])\n",
    "\n",
    "data\n",
    "\n",
    "''' Labelling all data using conditons'''\n",
    "\n",
    "\n",
    "Promo=[]\n",
    "\n",
    "\n",
    "# Labelling promotional tweets from the data using algorithm \n",
    "\n",
    "for tweet in data['tweets']:\n",
    "    \n",
    "    if 'RT @' in tweet or re.findall('\\A@', tweet):\n",
    "        Promo.append('None')\n",
    "        \n",
    "    elif 'RT @' not in tweet:\n",
    "            #\n",
    "            if  re.findall('drink', tweet, flags=re.IGNORECASE) or re.findall('£', tweet):\n",
    "                Promo.append('Yes')\n",
    "            else:\n",
    "                Promo.append('No')\n",
    "        \n",
    "# adding labelled data to data frame \n",
    "data['Promo']= Promo\n",
    "\n",
    "#dropping all retweets\n",
    "\n",
    "#data.drop(data[(data['Promo']== 'None')].index, inplace=True)\n",
    "\n",
    "data.describe()"
   ]
  },
  {
   "cell_type": "code",
   "execution_count": 9,
   "id": "732891d6",
   "metadata": {},
   "outputs": [],
   "source": [
    "data.to_csv('highest_day.csv')\n"
   ]
  },
  {
   "cell_type": "code",
   "execution_count": 10,
   "id": "fcc38ad3",
   "metadata": {},
   "outputs": [],
   "source": [
    "data['time']= pd.to_datetime(data.time)\n",
    "    "
   ]
  },
  {
   "cell_type": "code",
   "execution_count": 11,
   "id": "5b7b785f",
   "metadata": {},
   "outputs": [],
   "source": [
    "data['time']= pd.to_datetime(data.time)\n",
    "date=[]\n",
    "for i in data['time']:\n",
    "    date.append(i.date())\n",
    "data['date']= date\n",
    "data['date'] = pd.to_datetime(data['date'])  \n",
    "\n"
   ]
  },
  {
   "cell_type": "code",
   "execution_count": 12,
   "id": "40aed7a3",
   "metadata": {},
   "outputs": [],
   "source": [
    "''' Selecting data between given date ranges'''\n",
    "#greater than the start date and smaller than the end date\n",
    "# mask = (data['date'] > start_date) & (data['date'] <= end_date)\n",
    "\n",
    "mask = (data['date'] >= '2019-1-1') & (data['date'] < '2020-1-1')\n",
    "data= (data.loc[mask])\n",
    "\n",
    "# data"
   ]
  },
  {
   "cell_type": "code",
   "execution_count": 13,
   "id": "c20a0c84",
   "metadata": {},
   "outputs": [],
   "source": [
    "'''Grouping data by Promotional and Non-Promotional Category '''\n",
    "\n",
    "xy=[]\n",
    "xy= data[data.Promo == 'Yes']\n",
    "ny= data[data.Promo == 'No']\n",
    "\n",
    "np1 = ny.groupby(['Promo', 'date']).size().reset_index(name='counts')\n",
    "\n",
    "\n",
    "p1= xy.groupby(['Promo', 'date']).size().reset_index(name='promo_pryzm')\n",
    " \n",
    "\n",
    "    \n",
    "    \n",
    "    \n",
    "    \n",
    "#Appending all count and promo data and saving the dataframe as csv\n",
    "\n",
    "\n",
    "\n",
    "\n",
    "    \n",
    "full_df = data.groupby([ 'date']).size().reset_index(name='all_pryzm')\n",
    "\n",
    "p1['date']= pd.to_datetime(p1.date)\n",
    "p1.drop('Promo', axis=1, inplace=True)\n",
    "\n",
    "\n",
    "full_df = pd.merge(p1,full_df,on= 'date', how= 'outer')\n",
    "full_df= full_df.fillna(0)\n",
    "# print(full_df)\n",
    "full_df.to_csv('pryzm_count.csv')\n",
    "\n",
    "# full_df"
   ]
  },
  {
   "cell_type": "code",
   "execution_count": 14,
   "id": "af1b522d",
   "metadata": {},
   "outputs": [
    {
     "name": "stdout",
     "output_type": "stream",
     "text": [
      "12\n",
      "5\n"
     ]
    }
   ],
   "source": [
    "# getting maximum value of counts:\n",
    "xmax= p1['promo_pryzm'].max()\n",
    "ymax= np1['counts'].max()\n",
    "print(xmax)\n",
    "print(ymax)"
   ]
  },
  {
   "cell_type": "code",
   "execution_count": 35,
   "id": "43df4f72",
   "metadata": {},
   "outputs": [
    {
     "name": "stdout",
     "output_type": "stream",
     "text": [
      "   Promo       date  counts\n",
      "10    No 2019-02-01       5\n",
      "22    No 2019-02-15       5\n",
      "27    No 2019-02-21       5\n"
     ]
    },
    {
     "data": {
      "text/plain": [
       "tweets     12\n",
       "likes      12\n",
       "time       12\n",
       "retweet    12\n",
       "date       12\n",
       "Promo      12\n",
       "dtype: int64"
      ]
     },
     "execution_count": 35,
     "metadata": {},
     "output_type": "execute_result"
    }
   ],
   "source": [
    "# highest Promotional activity on: \n",
    "# print(p1[p1['promo_club']== xmax])\n",
    "\n",
    "# Highest non promotion on: \n",
    "print(np1[np1['counts']== ymax])\n",
    "\n",
    "pe=(data[data['date']== '2019-8-17'])\n",
    "pe.count()"
   ]
  },
  {
   "cell_type": "code",
   "execution_count": 16,
   "id": "a5b2bf3b",
   "metadata": {},
   "outputs": [
    {
     "data": {
      "image/png": "[encoded data removed]",
      "text/plain": [
       "<Figure size 432x288 with 1 Axes>"
      ]
     },
     "metadata": {
      "needs_background": "light"
     },
     "output_type": "display_data"
    },
    {
     "name": "stdout",
     "output_type": "stream",
     "text": [
      "Percentage of Drinks Promotion : 75.17647058823529 %\n",
      "Percentage of Non_Drinks Promotion : 24.823529411764707 %\n"
     ]
    }
   ],
   "source": [
    "\n",
    "import matplotlib.pyplot as plt\n",
    "from matplotlib import rcParams\n",
    "\n",
    "np2= sum(np1['counts'])\n",
    "p2= sum(p1['promo_pryzm'])\n",
    "\n",
    "\n",
    "fig = plt.figure()\n",
    "\n",
    "m= p2+np2\n",
    "x= (p2/m)*100\n",
    "y=(np2/m)*100\n",
    "\n",
    "\n",
    "ax = fig.add_axes([0,0,1,1])\n",
    "ax.bar('Promo', x, color = 'b',width=0.5)\n",
    "ax.bar('Non promo', y, color = 'g',width=0.5)\n",
    "plt.show()\n",
    "\n",
    "print('Percentage of Drinks Promotion :' ,x ,'%')\n",
    "print('Percentage of Non_Drinks Promotion :' ,y ,'%')\n"
   ]
  },
  {
   "cell_type": "code",
   "execution_count": 17,
   "id": "e1dd0a9d",
   "metadata": {},
   "outputs": [
    {
     "data": {
      "image/png": "[encoded data removed]",
      "text/plain": [
       "<Figure size 1080x720 with 1 Axes>"
      ]
     },
     "metadata": {
      "needs_background": "light"
     },
     "output_type": "display_data"
    }
   ],
   "source": [
    "Year = p1['date']\n",
    "\n",
    "rcParams['figure.figsize']= 15,10\n",
    "Count = p1['promo_pryzm']\n",
    "\n",
    "plt.plot(Year, Count)\n",
    "plt.plot(np1['date'], np1['counts'])\n",
    "plt.margins(x=0, y=0)\n",
    "\n",
    "plt.title('Promotion Vs Date')\n",
    "plt.xlabel('Date')\n",
    "plt.ylabel('Promo Count')\n",
    "\n",
    "plt.show()"
   ]
  },
  {
   "cell_type": "code",
   "execution_count": 36,
   "id": "1a3bd6d1",
   "metadata": {},
   "outputs": [],
   "source": [
    "# print(full_df.tail(20))"
   ]
  },
  {
   "cell_type": "code",
   "execution_count": 37,
   "id": "8fe4ae32",
   "metadata": {},
   "outputs": [],
   "source": [
    "# pd.options.display.max_colwidth = 1000\n",
    "# xmd = (data['date'] > '2019-8-1') & (data['date'] <= '2019-9-30')\n",
    "# xmd = (data.loc[mask])\n",
    "# pe=(data[data['date']== '2019-8-17'])\n",
    "# pe['tweets']\n"
   ]
  },
  {
   "cell_type": "code",
   "execution_count": 38,
   "id": "6e277e03",
   "metadata": {},
   "outputs": [],
   "source": [
    "# pd.options.display.max_colwidth = 1000\n",
    "# xmd = (data['date'] > '2019-5-1') & (data['date'] <= '2019-6-30')\n",
    "# xmd = (data.loc[mask])\n",
    "# pe=(data[data['date']== '2019-5-18'])\n",
    "# pe['tweets']"
   ]
  },
  {
   "cell_type": "code",
   "execution_count": 39,
   "id": "00a7e3ff",
   "metadata": {},
   "outputs": [],
   "source": [
    "# pd.options.display.max_colwidth = 1000\n",
    "# xmd = (data['date'] > '2019-5-1') & (data['date'] <= '2019-6-30')\n",
    "# xmd = (data.loc[mask])\n",
    "# pe=(data[data['date']== '2019-6-8'])\n",
    "# pe['tweets']"
   ]
  },
  {
   "cell_type": "code",
   "execution_count": 40,
   "id": "54b573d3",
   "metadata": {},
   "outputs": [],
   "source": [
    "# pe=(data[data['date']== '2019-8-17'])\n",
    "# pe['tweets']\n"
   ]
  },
  {
   "cell_type": "code",
   "execution_count": null,
   "id": "42e8459d",
   "metadata": {},
   "outputs": [],
   "source": []
  },
  {
   "cell_type": "code",
   "execution_count": null,
   "id": "8be69109",
   "metadata": {},
   "outputs": [],
   "source": []
  },
  {
   "cell_type": "code",
   "execution_count": null,
   "id": "b072cb0b",
   "metadata": {},
   "outputs": [],
   "source": []
  },
  {
   "cell_type": "code",
   "execution_count": 26,
   "id": "45260bad",
   "metadata": {},
   "outputs": [],
   "source": [
    "# data['Promotional_M']= data_2\n",
    "# data_2= data.iloc[ : , 0:30]\n",
    "\n",
    "# # data.iloc[0:30, 5]\n",
    "# #Counting numbers of Yes and No In promotional data #normalize=True for percentage \n",
    "# m= data['Promotional_M'].value_counts()\n",
    "# print ('Percentage of :', m )\n",
    "# data_2.DataFrame()\n"
   ]
  },
  {
   "cell_type": "code",
   "execution_count": 27,
   "id": "a92b8e9a",
   "metadata": {},
   "outputs": [],
   "source": [
    "# # calculates precision for 1:100 dataset with 90 tp and 30 fp\n",
    "# from sklearn.metrics import precision_score\n",
    "# # define actual\n",
    "# act_pos = [1 for _ in range(100)]\n",
    "# act_neg = [0 for _ in range(10000)]\n",
    "# y_true = act_pos + act_neg\n",
    "# # define predictions\n",
    "# pred_pos = [0 for _ in range(10)] + [1 for _ in range(90)]\n",
    "# pred_neg = [1 for _ in range(30)] + [0 for _ in range(9970)]\n",
    "# y_pred = pred_pos + pred_neg\n",
    "# # calculate prediction\n",
    "# precision = precision_score(y_true, y_pred, average='binary')\n",
    "# print('Precision: %.3f' % precision)"
   ]
  },
  {
   "cell_type": "code",
   "execution_count": 28,
   "id": "78031457",
   "metadata": {},
   "outputs": [],
   "source": [
    "# #Initialising new array and counting number of true and false positives\n",
    "\n",
    "# cf=[]\n",
    "# for x in range(29):\n",
    "#     cf.append((data.iloc[x,5]) == (data.iloc[x,4].strip()))\n",
    "\n",
    "# cf\n",
    "\n",
    "\n",
    "# print (cf.count(True)/ 30)\n",
    "\n"
   ]
  },
  {
   "cell_type": "code",
   "execution_count": 29,
   "id": "ac1176ee",
   "metadata": {},
   "outputs": [],
   "source": [
    "\n",
    "# promo_list_drinks= []\n",
    "# promo_list_p= []\n",
    "# drinks_type = 'Smirnoff', 'Prosecco','VK', 'Budwesier', 'Ciroc','Gin'\n",
    "\n",
    "# for i in data['tweets']:\n",
    "#     if  re.findall('drink', i, flags=re.IGNORECASE) :\n",
    "        \n",
    "#         promo_list_drinks.append(i)\n",
    "        \n",
    "#     if re.findall('£', i):\n",
    "#         promo_list_p.append(i)\n",
    "   \n",
    "\n"
   ]
  },
  {
   "cell_type": "code",
   "execution_count": 30,
   "id": "afc3d6af",
   "metadata": {},
   "outputs": [],
   "source": [
    "# promo_p = pd.DataFrame({'Offers': promo_list_p})\n",
    "# promo_d = pd.DataFrame({'Offers': promo_list_drinks})\n",
    "\n",
    "# print(promo_p['Offers'][9])\n",
    "# print(promo_d.shape)\n",
    "# promo_p.shape\n",
    "\n",
    "\n",
    "\n"
   ]
  },
  {
   "cell_type": "code",
   "execution_count": 31,
   "id": "c4337951",
   "metadata": {},
   "outputs": [],
   "source": [
    "# for p in promo_p['Offers']: \n",
    "#     if (re.findall('£*' +'ticket', p)):\n",
    "#         print(p)\n",
    "        \n"
   ]
  },
  {
   "cell_type": "code",
   "execution_count": null,
   "id": "7490e4f7",
   "metadata": {},
   "outputs": [],
   "source": []
  }
 ],
 "metadata": {
  "kernelspec": {
   "display_name": "Python 3",
   "language": "python",
   "name": "python3"
  },
  "language_info": {
   "codemirror_mode": {
    "name": "ipython",
    "version": 3
   },
   "file_extension": ".py",
   "mimetype": "text/x-python",
   "name": "python",
   "nbconvert_exporter": "python",
   "pygments_lexer": "ipython3",
   "version": "3.8.8"
  }
 },
 "nbformat": 4,
 "nbformat_minor": 5
}
