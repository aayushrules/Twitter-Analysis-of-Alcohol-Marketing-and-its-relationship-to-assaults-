{
 "cells": [
  {
   "cell_type": "code",
   "execution_count": null,
   "id": "454c3991",
   "metadata": {},
   "outputs": [],
   "source": [
    "# Extracting tweets from Twitter "
   ]
  },
  {
   "cell_type": "code",
   "execution_count": null,
   "id": "ff0fab50",
   "metadata": {},
   "outputs": [],
   "source": [
    "!pip install tweepy"
   ]
  },
  {
   "cell_type": "code",
   "execution_count": null,
   "id": "05569b19",
   "metadata": {},
   "outputs": [],
   "source": [
    "!pip install configparser"
   ]
  },
  {
   "cell_type": "code",
   "execution_count": null,
   "id": "55ee70e3",
   "metadata": {},
   "outputs": [],
   "source": [
    "import tweepy\n",
    "import configparser\n",
    "import pandas as pd \n",
    "import re"
   ]
  },
  {
   "cell_type": "code",
   "execution_count": null,
   "id": "45b2b99b",
   "metadata": {},
   "outputs": [],
   "source": [
    "%run ./keys.ipynb"
   ]
  },
  {
   "cell_type": "code",
   "execution_count": null,
   "id": "f6cf536c",
   "metadata": {},
   "outputs": [],
   "source": [
    "import datetime"
   ]
  },
  {
   "cell_type": "code",
   "execution_count": null,
   "id": "25eb81a5",
   "metadata": {},
   "outputs": [],
   "source": [
    "#ENTER API KEY AND API_KEY_SECRET, ACCESS TOKEN AND ACCESS TOKEN SECRET\n",
    "# authentication\n",
    "auth= tweepy.OAuthHandler(api_key, api_key_secret)\n",
    "auth.set_access_token(access_token, access_token_secret)\n",
    "\n",
    "api= tweepy.API(auth)\n",
    "\n",
    "author = []\n",
    "tweets=[]\n",
    "likes=[]\n",
    "retweet_count = []\n",
    "retweet= []\n",
    "retweeted=[]\n",
    "retweets=[]\n",
    "time=[]\n",
    "conversation_id=[]\n",
    "\n",
    "\n",
    "#INSERT CLUB ID IN CODE BELOW   \n",
    "cursor = tweepy.Cursor(api.user_timeline, id= 'Club_name',  tweet_mode= 'extended').items(50000)\n",
    "ds= cursor\n",
    "for i in cursor:\n",
    "    print(dir(i))\n",
    "    time.append(i.created_at)\n",
    "    tweets.append(i.full_text)\n",
    "    likes.append(i.favorite_count)\n",
    "    retweet_count.append(i.retweet_count)\n",
    "    \n",
    "\n",
    "\n",
    "df = pd.DataFrame({'tweets': tweets, 'likes':likes, 'time':time, 'retweet' : retweet_count})\n",
    "\n"
   ]
  },
  {
   "cell_type": "code",
   "execution_count": null,
   "id": "3937aa48",
   "metadata": {},
   "outputs": [],
   "source": [
    "df = pd.DataFrame({'tweets': tweets, 'likes':likes, 'time':time, 'retweet' : retweet_count})"
   ]
  },
  {
   "cell_type": "code",
   "execution_count": null,
   "id": "825e8659",
   "metadata": {},
   "outputs": [],
   "source": [
    "# conversation_id"
   ]
  },
  {
   "cell_type": "code",
   "execution_count": null,
   "id": "525d144e",
   "metadata": {},
   "outputs": [],
   "source": [
    "df\n",
    "df.to_csv('Club_name.csv')\n"
   ]
  },
  {
   "cell_type": "code",
   "execution_count": null,
   "id": "9dec8bee",
   "metadata": {},
   "outputs": [],
   "source": []
  },
  {
   "cell_type": "code",
   "execution_count": null,
   "id": "7fbc1105",
   "metadata": {},
   "outputs": [],
   "source": []
  },
  {
   "cell_type": "code",
   "execution_count": null,
   "id": "0a13a5c0",
   "metadata": {},
   "outputs": [],
   "source": [
    "for i in df['tweets']:\n",
    "    if (re.findall('£', i) and re.findall('drink*(?i)', i)):\n",
    "        print(i)\n",
    "#         print(re.findall(r'[^a-zA-Z]+ [\\w]+ drink+\\w', i))\n"
   ]
  },
  {
   "cell_type": "code",
   "execution_count": null,
   "id": "0fb99b4c",
   "metadata": {},
   "outputs": [],
   "source": [
    "drinks_promo=[]\n",
    "for i in df['tweets']:\n",
    "    if(re.findall('[^a-zA-Z]+ [a-z]+ drinks*', i)):\n",
    "\n",
    "#     if re.findall('£', i) or re.findall('drink*(?i)', i) or re.findall('2for1*', i):\n",
    "\n",
    "        drinks_promo.append(i)\n",
    "print(drinks_promo)\n",
    "        \n",
    "        "
   ]
  },
  {
   "cell_type": "code",
   "execution_count": null,
   "id": "2616687f",
   "metadata": {},
   "outputs": [],
   "source": [
    "drinks_promo_dataframe= pd.DataFrame({'Offers': drinks_promo})\n",
    "drinks_promo_dataframe\n"
   ]
  }
 ],
 "metadata": {
  "kernelspec": {
   "display_name": "Python 3",
   "language": "python",
   "name": "python3"
  },
  "language_info": {
   "codemirror_mode": {
    "name": "ipython",
    "version": 3
   },
   "file_extension": ".py",
   "mimetype": "text/x-python",
   "name": "python",
   "nbconvert_exporter": "python",
   "pygments_lexer": "ipython3",
   "version": "3.8.8"
  }
 },
 "nbformat": 4,
 "nbformat_minor": 5
}
